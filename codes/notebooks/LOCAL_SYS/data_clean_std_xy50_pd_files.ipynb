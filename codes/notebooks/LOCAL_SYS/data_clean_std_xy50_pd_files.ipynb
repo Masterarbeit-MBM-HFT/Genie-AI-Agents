{
 "cells": [
  {
   "cell_type": "code",
   "execution_count": 24,
   "id": "80c9f41f",
   "metadata": {},
   "outputs": [],
   "source": [
    "import pandas as pd\n",
    "import os"
   ]
  },
  {
   "cell_type": "code",
   "execution_count": 49,
   "id": "d22c344b",
   "metadata": {},
   "outputs": [],
   "source": [
    "_local_common_path = \"../../datasets/dummy_datasets/\""
   ]
  },
  {
   "cell_type": "markdown",
   "id": "d4b3db1a",
   "metadata": {},
   "source": [
    "# 1. std_xy50_pd_contracts"
   ]
  },
  {
   "cell_type": "code",
   "execution_count": 69,
   "id": "8e6db483",
   "metadata": {},
   "outputs": [],
   "source": [
    "_input_file_name = \"hist_XY50_pd_contracts_5000.csv\"\n",
    "_output_file_name = _input_file_name[:-4]+'_clean.csv'\n",
    "_input_full_path = _local_common_path + _input_file_name\n",
    "_output_full_path = _local_common_path + _output_file_name\n",
    "\n",
    "df = pd.read_csv(_input_full_path, sep=\";\").drop(\"Unnamed: 0\", axis=1)\n",
    "\n",
    "_remove_columns = [col for col in df.columns if \"_cal\" in col]\n",
    "_keep_columns = df.columns.difference(_remove_columns)\n",
    "\n",
    "df_clean = df[_keep_columns]\n",
    "\n",
    "df_clean.to_csv(_output_full_path, sep=\";\", index=False)"
   ]
  },
  {
   "cell_type": "code",
   "execution_count": 81,
   "id": "484b93e2",
   "metadata": {},
   "outputs": [
    {
     "data": {
      "text/plain": [
       "['hist_XY50_pd_cashflows_100.csv',\n",
       " 'hist_XY50_pd_cashflows_1000.csv',\n",
       " 'hist_XY50_pd_cashflows_500.csv',\n",
       " 'hist_XY50_pd_cashflows_5000.csv',\n",
       " 'hist_XY50_pd_contracts_100.csv',\n",
       " 'hist_XY50_pd_contracts_1000.csv',\n",
       " 'hist_XY50_pd_contracts_500.csv',\n",
       " 'hist_XY50_pd_contracts_5000.csv',\n",
       " 'hist_XY50_pd_writeoffs_100.csv',\n",
       " 'hist_XY50_pd_writeoffs_1000.csv',\n",
       " 'hist_XY50_pd_writeoffs_500.csv',\n",
       " 'hist_XY50_pd_writeoffs_5000.csv',\n",
       " 'std_XY50_pd_cashflows_100.csv',\n",
       " 'std_XY50_pd_cashflows_1000.csv',\n",
       " 'std_XY50_pd_cashflows_500.csv',\n",
       " 'std_XY50_pd_cashflows_5000.csv',\n",
       " 'std_XY50_pd_contracts_100.csv',\n",
       " 'std_XY50_pd_contracts_1000.csv',\n",
       " 'std_XY50_pd_contracts_500.csv',\n",
       " 'std_XY50_pd_contracts_5000.csv',\n",
       " 'std_XY50_pd_writeoffs_100.csv',\n",
       " 'std_XY50_pd_writeoffs_1000.csv',\n",
       " 'std_XY50_pd_writeoffs_500.csv',\n",
       " 'std_XY50_pd_writeoffs_5000.csv']"
      ]
     },
     "execution_count": 81,
     "metadata": {},
     "output_type": "execute_result"
    }
   ],
   "source": [
    "_datasets = os.listdir(_local_common_path)\n",
    "_datasets.remove(\"column_scalability\")\n",
    "_datasets.remove(\"naruto\")\n",
    "_datasets"
   ]
  },
  {
   "cell_type": "code",
   "execution_count": 82,
   "id": "e446ea92",
   "metadata": {},
   "outputs": [],
   "source": [
    "for _input_file_name in _datasets:\n",
    "    _input_full_path = _local_common_path + _input_file_name\n",
    "    df = pd.read_csv(_input_full_path, sep=\";\")\n",
    "    if \"Unnamed: 0\" in df.columns:\n",
    "        df = df.drop(\"Unnamed: 0\", axis=1)\n",
    "    df.to_csv(_input_full_path, sep=\";\", index=False)"
   ]
  }
 ],
 "metadata": {
  "kernelspec": {
   "display_name": "Python 3",
   "language": "python",
   "name": "python3"
  },
  "language_info": {
   "codemirror_mode": {
    "name": "ipython",
    "version": 3
   },
   "file_extension": ".py",
   "mimetype": "text/x-python",
   "name": "python",
   "nbconvert_exporter": "python",
   "pygments_lexer": "ipython3",
   "version": "3.9.6"
  }
 },
 "nbformat": 4,
 "nbformat_minor": 5
}
